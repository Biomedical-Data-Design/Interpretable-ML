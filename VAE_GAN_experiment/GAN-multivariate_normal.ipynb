{
 "cells": [
  {
   "cell_type": "code",
   "execution_count": 1,
   "id": "a322fc21",
   "metadata": {},
   "outputs": [],
   "source": [
    "import torch\n",
    "from torch import nn\n",
    "import scipy.stats as stats\n",
    "import matplotlib.pyplot as plt\n",
    "import os\n",
    "import pandas as pd\n",
    "import numpy as np\n",
    "os.environ[\"KMP_DUPLICATE_LIB_OK\"]=\"TRUE\""
   ]
  },
  {
   "cell_type": "code",
   "execution_count": 15,
   "id": "59c8b54d",
   "metadata": {},
   "outputs": [],
   "source": [
    "plt.rc(\"axes\",\n",
    "    axisbelow = True,\n",
    "    labelsize = 18,\n",
    "    titlesize = 20\n",
    ")\n",
    "plt.rc('text', usetex=True)\n",
    "plt.rc(\"font\", family = \"sans-serif\")\n",
    "plt.rc(\"image\", cmap = \"viridis\")\n",
    "\n",
    "# plt.rc(\"legend\",\n",
    "#     edgecolor = \"k\",\n",
    "#     fontsize = 15,\n",
    "#     framealpha = 1.0\n",
    "# )\n",
    "# plt.rc(\"xtick\", labelsize = 12)\n",
    "# plt.rc(\"ytick\", labelsize = 12)"
   ]
  },
  {
   "cell_type": "code",
   "execution_count": 184,
   "id": "f0835f45",
   "metadata": {},
   "outputs": [],
   "source": [
    "class Discriminator(nn.Module):\n",
    "    def __init__(self):\n",
    "        super().__init__()\n",
    "        self.model = nn.Sequential(\n",
    "            nn.Linear(3, 256),\n",
    "            nn.ReLU(),\n",
    "            nn.Linear(256, 128),\n",
    "            nn.ReLU(),\n",
    "            nn.Linear(128, 64),\n",
    "            nn.ReLU(),\n",
    "            nn.Linear(64, 1),\n",
    "            nn.Sigmoid(),\n",
    "        )\n",
    "    def forward(self, x):\n",
    "        output = self.model(x)\n",
    "        return output\n",
    "\n",
    "class Generator(nn.Module):\n",
    "    def __init__(self):\n",
    "        super().__init__()\n",
    "        self.model = nn.Sequential(\n",
    "            nn.Linear(3, 128),\n",
    "            nn.ReLU(),\n",
    "            nn.Linear(128, 64),\n",
    "            nn.ReLU(),\n",
    "            nn.Linear(64, 3),\n",
    "        )\n",
    "    def forward(self, x):\n",
    "        output = self.model(x)\n",
    "        return output\n",
    "\n",
    "def create_training_data(N, rhos, sig_diag, m): \n",
    "    train_data_length = N\n",
    "    train_data = torch.zeros((train_data_length, 3))\n",
    "    rho01=rhos[0];rho02=rhos[1];rho12=rhos[2]\n",
    "    sigma = [[sig_diag[0], rho01, rho02], [rho01, sig_diag[1], rho12], [rho02, rho12, sig_diag[2]]]\n",
    "    mu = m\n",
    "    dstr = stats.multivariate_normal(mean=mu, cov=sigma)\n",
    "    x1=[];x2=[];x3=[]\n",
    "    for i in range(train_data_length):\n",
    "        sample=dstr.rvs()\n",
    "        x1.append(sample[0]);x2.append(sample[1]);x3.append(sample[2])\n",
    "    plt.hist(x1, bins=100, density=True);plt.hist(x2, bins=100, density=True);plt.hist(x3, bins=100, density=True); plt.show()\n",
    "    train_data[:, 0] = torch.tensor(x1)\n",
    "    train_data[:, 1] = torch.tensor(x2)\n",
    "    train_data[:, 2] = torch.tensor(x3)\n",
    "    return train_data\n",
    "\n",
    "def addNoise(train_data, eps_mu, eps_sig):\n",
    "    x1 = train_data[:,0]\n",
    "    x2 = train_data[:,1]\n",
    "    x3 = train_data[:,2]\n",
    "    eps1 = np.random.normal(eps_mu, eps_sig, len(train_data))\n",
    "    eps2 = np.random.normal(eps_mu, eps_sig, len(train_data))\n",
    "    eps3 = np.random.normal(eps_mu, eps_sig, len(train_data))\n",
    "    x1 += eps1; x2 += eps2; x3 += eps3\n",
    "    plt.hist(x1.numpy(),bins = 100, density=True); plt.hist(x2.numpy(),bins = 100, density=True)\n",
    "    plt.hist(x3.numpy(),bins = 100, density=True); plt.show()\n",
    "    train_data[:, 0] = x1\n",
    "    train_data[:, 0] = x2\n",
    "    train_data[:, 0] = x3\n",
    "    return train_data\n",
    "\n",
    "def save(data, filename):\n",
    "    data_df = pd.DataFrame(data)\n",
    "    data_df.to_csv(filename, index=False)\n",
    "    return\n",
    "\n",
    "def chi2_distance(A, B):\n",
    "    chi = 0.5 * np.sum([((a - b) ** 2) / (a + b)\n",
    "                      for (a, b) in zip(A, B)])\n",
    "    return chi\n",
    "\n",
    "def create_training_set(train_data):\n",
    "    train_labels = torch.zeros(len(train_data))\n",
    "    train_set = [(train_data[i], train_labels[i]) for i in range(len(train_data))]\n",
    "    return train_set"
   ]
  },
  {
   "cell_type": "code",
   "execution_count": 58,
   "id": "d0f04fb1",
   "metadata": {},
   "outputs": [],
   "source": [
    "noiseExp_ks = []; noiseExp_kl = []; noiseExp_cs = []\n",
    "eps_space = [0.0001, 0.001, 0.01, 0.1, 1, 10]"
   ]
  },
  {
   "cell_type": "code",
   "execution_count": 185,
   "id": "3b316f69",
   "metadata": {
    "scrolled": true
   },
   "outputs": [
    {
     "data": {
      "image/png": "[encoded data removed]",
      "text/plain": [
       "<Figure size 432x288 with 1 Axes>"
      ]
     },
     "metadata": {
      "needs_background": "light"
     },
     "output_type": "display_data"
    }
   ],
   "source": [
    "train_data = create_training_data(6000, [0,0,0], [1,1,1], [2,3,4])\n",
    "denoise_data = train_data"
   ]
  },
  {
   "cell_type": "code",
   "execution_count": 186,
   "id": "d9acb6c9",
   "metadata": {},
   "outputs": [
    {
     "data": {
      "image/png": "[encoded data removed]",
      "text/plain": [
       "<Figure size 432x288 with 1 Axes>"
      ]
     },
     "metadata": {
      "needs_background": "light"
     },
     "output_type": "display_data"
    }
   ],
   "source": [
    "train_data = addNoise(train_data, 0, eps_space[5])"
   ]
  },
  {
   "cell_type": "code",
   "execution_count": 187,
   "id": "0fb2720c",
   "metadata": {},
   "outputs": [],
   "source": [
    "train_set = create_training_set(train_data)"
   ]
  },
  {
   "cell_type": "code",
   "execution_count": 188,
   "id": "994177b1",
   "metadata": {},
   "outputs": [],
   "source": [
    "batch_size =75\n",
    "train_loader = torch.utils.data.DataLoader(\n",
    "    train_set, batch_size=batch_size, shuffle=True\n",
    ")\n",
    "\n",
    "discriminator = Discriminator()\n",
    "generator = Generator()"
   ]
  },
  {
   "cell_type": "code",
   "execution_count": 189,
   "id": "f8ebbed7",
   "metadata": {},
   "outputs": [],
   "source": [
    "lr = 0.001\n",
    "num_epochs = 500\n",
    "loss_function = nn.BCELoss()\n",
    "optimizer_discriminator = torch.optim.Adam(discriminator.parameters(), lr=lr)\n",
    "optimizer_generator = torch.optim.Adam(generator.parameters(), lr=lr)\n",
    "\n"
   ]
  },
  {
   "cell_type": "code",
   "execution_count": 190,
   "id": "d64374f3",
   "metadata": {
    "scrolled": false
   },
   "outputs": [
    {
     "name": "stdout",
     "output_type": "stream",
     "text": [
      "Epoch: 0 Loss D.: 0.2991866171360016\n",
      "Epoch: 0 Loss G.: 3.006117343902588\n",
      "Epoch: 10 Loss D.: 0.9366472363471985\n",
      "Epoch: 10 Loss G.: 0.8276920914649963\n",
      "Epoch: 20 Loss D.: 0.6389436721801758\n",
      "Epoch: 20 Loss G.: 0.7755023241043091\n",
      "Epoch: 30 Loss D.: 0.5091719627380371\n",
      "Epoch: 30 Loss G.: 1.1841357946395874\n",
      "Epoch: 40 Loss D.: 0.668285071849823\n",
      "Epoch: 40 Loss G.: 0.6933118104934692\n",
      "Epoch: 50 Loss D.: 0.7549148797988892\n",
      "Epoch: 50 Loss G.: 0.5958625674247742\n",
      "Epoch: 60 Loss D.: 0.7383529543876648\n",
      "Epoch: 60 Loss G.: 0.794817328453064\n",
      "Epoch: 70 Loss D.: 0.7051903009414673\n",
      "Epoch: 70 Loss G.: 0.7840997576713562\n",
      "Epoch: 80 Loss D.: 0.7101016640663147\n",
      "Epoch: 80 Loss G.: 0.6933662295341492\n",
      "Epoch: 90 Loss D.: 0.7165210247039795\n",
      "Epoch: 90 Loss G.: 0.745438277721405\n",
      "Epoch: 100 Loss D.: 0.6911965012550354\n",
      "Epoch: 100 Loss G.: 0.6248822212219238\n",
      "Epoch: 110 Loss D.: 0.6940441131591797\n",
      "Epoch: 110 Loss G.: 0.7378517389297485\n",
      "Epoch: 120 Loss D.: 0.6925605535507202\n",
      "Epoch: 120 Loss G.: 0.692694902420044\n",
      "Epoch: 130 Loss D.: 0.6931471228599548\n",
      "Epoch: 130 Loss G.: 0.6931540369987488\n",
      "Epoch: 140 Loss D.: 0.693148672580719\n",
      "Epoch: 140 Loss G.: 0.6914558410644531\n",
      "Epoch: 150 Loss D.: 0.6923519968986511\n",
      "Epoch: 150 Loss G.: 0.733830988407135\n",
      "Epoch: 160 Loss D.: 0.6549668908119202\n",
      "Epoch: 160 Loss G.: 0.6782281398773193\n",
      "Epoch: 170 Loss D.: 0.6886870861053467\n",
      "Epoch: 170 Loss G.: 0.7043994665145874\n",
      "Epoch: 180 Loss D.: 0.6931471228599548\n",
      "Epoch: 180 Loss G.: 0.6933496594429016\n",
      "Epoch: 190 Loss D.: 0.6931471228599548\n",
      "Epoch: 190 Loss G.: 0.6933393478393555\n",
      "Epoch: 200 Loss D.: 0.6931471228599548\n",
      "Epoch: 200 Loss G.: 0.6931873559951782\n",
      "Epoch: 210 Loss D.: 0.6872594952583313\n",
      "Epoch: 210 Loss G.: 0.7384570837020874\n",
      "Epoch: 220 Loss D.: 0.6931471228599548\n",
      "Epoch: 220 Loss G.: 0.6932109594345093\n",
      "Epoch: 230 Loss D.: 0.6931473016738892\n",
      "Epoch: 230 Loss G.: 0.6931520104408264\n",
      "Epoch: 240 Loss D.: 0.6931471228599548\n",
      "Epoch: 240 Loss G.: 0.6931471228599548\n",
      "Epoch: 250 Loss D.: 0.6931471228599548\n",
      "Epoch: 250 Loss G.: 0.6931471228599548\n",
      "Epoch: 260 Loss D.: 0.6931471228599548\n",
      "Epoch: 260 Loss G.: 0.6931471228599548\n",
      "Epoch: 270 Loss D.: 0.6931471228599548\n",
      "Epoch: 270 Loss G.: 0.6931471228599548\n",
      "Epoch: 280 Loss D.: 0.6931471228599548\n",
      "Epoch: 280 Loss G.: 0.6931471228599548\n",
      "Epoch: 290 Loss D.: 0.6931471228599548\n",
      "Epoch: 290 Loss G.: 0.6931473612785339\n",
      "Epoch: 300 Loss D.: 0.6931471228599548\n",
      "Epoch: 300 Loss G.: 0.6931471228599548\n",
      "Epoch: 310 Loss D.: 0.6931471228599548\n",
      "Epoch: 310 Loss G.: 0.6931471228599548\n",
      "Epoch: 320 Loss D.: 0.6931471228599548\n",
      "Epoch: 320 Loss G.: 0.6931471228599548\n",
      "Epoch: 330 Loss D.: 0.6931471228599548\n",
      "Epoch: 330 Loss G.: 0.6931471228599548\n",
      "Epoch: 340 Loss D.: 0.6931471228599548\n",
      "Epoch: 340 Loss G.: 0.6931471228599548\n",
      "Epoch: 350 Loss D.: 0.6931473016738892\n",
      "Epoch: 350 Loss G.: 0.6931471228599548\n",
      "Epoch: 360 Loss D.: 0.6931471228599548\n",
      "Epoch: 360 Loss G.: 0.6931471228599548\n",
      "Epoch: 370 Loss D.: 0.6931473016738892\n",
      "Epoch: 370 Loss G.: 0.6931471228599548\n",
      "Epoch: 380 Loss D.: 0.6931471228599548\n",
      "Epoch: 380 Loss G.: 0.6931471228599548\n",
      "Epoch: 390 Loss D.: 0.6931471228599548\n",
      "Epoch: 390 Loss G.: 0.6931473612785339\n",
      "Epoch: 400 Loss D.: 0.6931471228599548\n",
      "Epoch: 400 Loss G.: 0.6931470036506653\n",
      "Epoch: 410 Loss D.: 0.6931473016738892\n",
      "Epoch: 410 Loss G.: 0.6931473612785339\n",
      "Epoch: 420 Loss D.: 0.6931471228599548\n",
      "Epoch: 420 Loss G.: 0.693142294883728\n",
      "Epoch: 430 Loss D.: 0.6931471228599548\n",
      "Epoch: 430 Loss G.: 0.6931206583976746\n",
      "Epoch: 440 Loss D.: 0.6931473016738892\n",
      "Epoch: 440 Loss G.: 0.6931474208831787\n",
      "Epoch: 450 Loss D.: 0.6931470632553101\n",
      "Epoch: 450 Loss G.: 0.6931436061859131\n",
      "Epoch: 460 Loss D.: 0.6931471228599548\n",
      "Epoch: 460 Loss G.: 0.6931427121162415\n",
      "Epoch: 470 Loss D.: 0.6931471228599548\n",
      "Epoch: 470 Loss G.: 0.6931419968605042\n",
      "Epoch: 480 Loss D.: 0.6931471228599548\n",
      "Epoch: 480 Loss G.: 0.693139374256134\n",
      "Epoch: 490 Loss D.: 0.6931471228599548\n",
      "Epoch: 490 Loss G.: 0.6931572556495667\n"
     ]
    }
   ],
   "source": [
    "for epoch in range(num_epochs):\n",
    "    for n, (real_samples, _) in enumerate(train_loader):\n",
    "        # Data for training the discriminator\n",
    "        real_samples_labels = torch.ones((batch_size, 1))\n",
    "        latent_space_samples = torch.randn((batch_size, 3))\n",
    "        generated_samples = generator(latent_space_samples)\n",
    "        generated_samples_labels = torch.zeros((batch_size, 1))\n",
    "        all_samples = torch.cat((real_samples, generated_samples))\n",
    "        all_samples_labels = torch.cat(\n",
    "            (real_samples_labels, generated_samples_labels)\n",
    "        )\n",
    "\n",
    "        # Training the discriminator\n",
    "        discriminator.zero_grad()\n",
    "        output_discriminator = discriminator(all_samples)\n",
    "        loss_discriminator = loss_function(\n",
    "            output_discriminator, all_samples_labels)\n",
    "        loss_discriminator.backward()\n",
    "        optimizer_discriminator.step()\n",
    "\n",
    "        # Data for training the generator\n",
    "        latent_space_samples = torch.randn((batch_size, 3))\n",
    "\n",
    "        # Training the generator\n",
    "        generator.zero_grad()\n",
    "        generated_samples = generator(latent_space_samples)\n",
    "        output_discriminator_generated = discriminator(generated_samples)\n",
    "        loss_generator = loss_function(\n",
    "            output_discriminator_generated, real_samples_labels\n",
    "        )\n",
    "        loss_generator.backward()\n",
    "        optimizer_generator.step()\n",
    "\n",
    "        # Show loss\n",
    "        if epoch % 10 == 0 and n == batch_size - 1:\n",
    "            print(f\"Epoch: {epoch} Loss D.: {loss_discriminator}\")\n",
    "            print(f\"Epoch: {epoch} Loss G.: {loss_generator}\")\n",
    "\n"
   ]
  },
  {
   "cell_type": "code",
   "execution_count": 191,
   "id": "ff145069",
   "metadata": {},
   "outputs": [],
   "source": [
    "latent_space_samples = torch.randn(len(train_data), 3)\n",
    "generated_samples = generator(latent_space_samples)\n",
    "generated_samples = generated_samples.detach()"
   ]
  },
  {
   "cell_type": "code",
   "execution_count": 201,
   "id": "457013a0",
   "metadata": {},
   "outputs": [
    {
     "data": {
      "image/png": "[encoded data removed]",
      "text/plain": [
       "<Figure size 1080x288 with 3 Axes>"
      ]
     },
     "metadata": {
      "needs_background": "light"
     },
     "output_type": "display_data"
    },
    {
     "data": {
      "image/png": "[encoded data removed]",
      "text/plain": [
       "<Figure size 1080x288 with 3 Axes>"
      ]
     },
     "metadata": {
      "needs_background": "light"
     },
     "output_type": "display_data"
    },
    {
     "data": {
      "image/png": "[encoded data removed]",
      "text/plain": [
       "<Figure size 1080x288 with 3 Axes>"
      ]
     },
     "metadata": {
      "needs_background": "light"
     },
     "output_type": "display_data"
    }
   ],
   "source": [
    "plt.figure(figsize=(15,4))\n",
    "\n",
    "\n",
    "l0=denoise_data[:, 0].tolist()\n",
    "plt.subplot(131)\n",
    "plt.hist(l0,100,density=True)\n",
    "plt.xlabel('$X_1 \\sim \\mathcal{N}(2,1)$')\n",
    "plt.ylabel('Density')\n",
    "\n",
    "l1=train_data[:, 0].tolist()\n",
    "plt.subplot(132)\n",
    "plt.hist(l1,100,density=True)\n",
    "plt.xlabel('$X_1$ w/ noise $\\epsilon \\sim \\mathcal{N}(0,10)$')\n",
    "\n",
    "l2=generated_samples[:, 0].tolist()\n",
    "plt.subplot(133)\n",
    "plt.hist(l2,100,density=True)\n",
    "plt.xlabel('GAN-generated $X_1$ samples')\n",
    "\n",
    "plt.show()\n",
    "\n",
    "\n",
    "\n",
    "\n",
    "\n",
    "plt.figure(figsize=(15,4))\n",
    "\n",
    "l0=denoise_data[:, 1].tolist()\n",
    "plt.subplot(131)\n",
    "plt.hist(l0,100,density=True)\n",
    "plt.xlabel('$X_2 \\sim \\mathcal{N}(3,1)$')\n",
    "plt.ylabel('Density')\n",
    "\n",
    "l1=train_data[:, 1].tolist()\n",
    "plt.subplot(132)\n",
    "plt.hist(l1,100,density=True)\n",
    "plt.xlabel('$X_3$ w/ noise $\\epsilon \\sim \\mathcal{N}(0,10)$')\n",
    "\n",
    "l2=generated_samples[:, 1].tolist()\n",
    "plt.subplot(133)\n",
    "plt.hist(l2,100,density=True)\n",
    "plt.xlabel('GAN-generated $X_2$ samples')\n",
    "\n",
    "plt.show()\n",
    "\n",
    "\n",
    "\n",
    "\n",
    "\n",
    "\n",
    "\n",
    "plt.figure(figsize=(15,4))\n",
    "\n",
    "l0=denoise_data[:, 2].tolist()\n",
    "plt.subplot(131)\n",
    "plt.hist(l0,100,density=True)\n",
    "plt.xlabel('$X_3 \\sim \\mathcal{N}(4,1)$')\n",
    "plt.ylabel('Density')\n",
    "\n",
    "l1=train_data[:, 2].tolist()\n",
    "plt.subplot(132)\n",
    "plt.hist(l1,100,density=True)\n",
    "plt.xlabel('$X_3$ w/ noise $\\epsilon \\sim \\mathcal{N}(0,10)$')\n",
    "\n",
    "l2=generated_samples[:, 2].tolist()\n",
    "plt.subplot(133)\n",
    "plt.hist(l2,100,density=True)\n",
    "plt.xlabel('GAN-generated $X_3$ samples')\n",
    "\n",
    "plt.show()"
   ]
  },
  {
   "cell_type": "markdown",
   "id": "32182903",
   "metadata": {},
   "source": [
    "# Analysis"
   ]
  },
  {
   "cell_type": "code",
   "execution_count": 162,
   "id": "a7557d09",
   "metadata": {},
   "outputs": [],
   "source": [
    "from scipy.stats import kstest\n",
    "from scipy.special import rel_entr"
   ]
  },
  {
   "cell_type": "code",
   "execution_count": 135,
   "id": "27475cf3",
   "metadata": {
    "scrolled": true
   },
   "outputs": [
    {
     "name": "stdout",
     "output_type": "stream",
     "text": [
      "[0.035333333333333335, 0.1855, 0.43816666666666665] \n",
      "******\n",
      " [tensor(inf), tensor(inf), tensor(6971.9912)] \n",
      "******\n",
      " [195573.359375, 794.6483154296875, 790.8707275390625]\n"
     ]
    }
   ],
   "source": [
    "ks_tests = []\n",
    "kl_tests = []\n",
    "cs_tests = []\n",
    "num_x = train_data.shape[1]\n",
    "for i in range(num_x):\n",
    "    ks_tests.append(kstest(generated_samples[:,i], denoise_data[:,i])[0])\n",
    "    kl_tests.append(sum(rel_entr(generated_samples[:,i], denoise_data[:,i])))\n",
    "    cs_tests.append(chi2_distance(generated_samples[:,i], denoise_data[:,i]))\n",
    "print(ks_tests,'\\n******\\n', kl_tests, '\\n******\\n',cs_tests)"
   ]
  },
  {
   "cell_type": "code",
   "execution_count": 136,
   "id": "3645716d",
   "metadata": {},
   "outputs": [],
   "source": [
    "noiseExp_ks.append(ks_tests); noiseExp_kl.append(kl_tests); noiseExp_cs.append(cs_tests)"
   ]
  },
  {
   "cell_type": "code",
   "execution_count": 137,
   "id": "a345bc77",
   "metadata": {},
   "outputs": [
    {
     "data": {
      "text/plain": [
       "[[0.048666666666666664, 0.16033333333333333, 0.051833333333333335],\n",
       " [0.15283333333333332, 0.206, 0.167],\n",
       " [0.25583333333333336, 0.2525, 0.18416666666666667],\n",
       " [0.25833333333333336, 0.16533333333333333, 0.23066666666666666],\n",
       " [0.14183333333333334, 0.327, 0.16833333333333333],\n",
       " [0.035333333333333335, 0.1855, 0.43816666666666665]]"
      ]
     },
     "execution_count": 137,
     "metadata": {},
     "output_type": "execute_result"
    }
   ],
   "source": [
    "noiseExp_ks"
   ]
  },
  {
   "cell_type": "code",
   "execution_count": 138,
   "id": "df5e8ff5",
   "metadata": {},
   "outputs": [],
   "source": [
    "ksx1 = [i[0] for i in noiseExp_ks]\n",
    "ksx2 = [i[1] for i in noiseExp_ks]\n",
    "ksx3 = [i[2] for i in noiseExp_ks]"
   ]
  },
  {
   "cell_type": "code",
   "execution_count": 144,
   "id": "40315873",
   "metadata": {
    "scrolled": false
   },
   "outputs": [
    {
     "data": {
      "text/plain": [
       "Text(0.5, 1.0, 'Effect of error variance in training data on KS statistic')"
      ]
     },
     "execution_count": 144,
     "metadata": {},
     "output_type": "execute_result"
    },
    {
     "data": {
      "image/png": "[encoded data removed]",
      "text/plain": [
       "<Figure size 504x504 with 1 Axes>"
      ]
     },
     "metadata": {
      "needs_background": "light"
     },
     "output_type": "display_data"
    }
   ],
   "source": [
    "plt.figure(figsize=(7,7))\n",
    "plt.plot(np.log10(eps_space),ksx1)\n",
    "plt.plot(np.log10(eps_space),ksx2)\n",
    "plt.plot(np.log10(eps_space),ksx3)\n",
    "plt.xlabel('$\\sigma^2$ for $\\epsilon$ ($\\log_{10}$)')\n",
    "plt.ylabel('Kolmogorov-Smirnov test statistic')\n",
    "plt.title('Effect of error variance in training data on KS statistic')"
   ]
  }
 ],
 "metadata": {
  "kernelspec": {
   "display_name": "Python 3",
   "language": "python",
   "name": "python3"
  },
  "language_info": {
   "codemirror_mode": {
    "name": "ipython",
    "version": 3
   },
   "file_extension": ".py",
   "mimetype": "text/x-python",
   "name": "python",
   "nbconvert_exporter": "python",
   "pygments_lexer": "ipython3",
   "version": "3.8.8"
  }
 },
 "nbformat": 4,
 "nbformat_minor": 5
}
