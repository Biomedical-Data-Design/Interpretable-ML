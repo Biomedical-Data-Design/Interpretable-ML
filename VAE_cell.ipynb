{
 "cells": [
  {
   "cell_type": "code",
   "execution_count": 19,
   "metadata": {
    "collapsed": true
   },
   "outputs": [],
   "source": [
    "#Setup\n",
    "import torch\n",
    "import torch.nn as nn\n",
    "import torch.nn.functional as F\n",
    "import torch.optim as optim\n",
    "from torchvision import datasets, transforms\n",
    "import torchvision\n",
    "\n",
    "TRANSFORM_IMG = transforms.Compose([\n",
    "    transforms.Resize(size=(128, 128)),\n",
    "    transforms.ToTensor()\n",
    "])\n",
    "\n",
    "# train data\n",
    "TRAIN_DATA_PATH = \"./filter_extracted_cells/\"\n",
    "train_data = torchvision.datasets.ImageFolder(root=TRAIN_DATA_PATH, transform=TRANSFORM_IMG)\n",
    "train_loader = torch.utils.data.DataLoader(\n",
    "    train_data,\n",
    "    batch_size=64, shuffle=True)\n",
    "\n",
    "# test data\n",
    "# test_loader = torch.utils.data.DataLoader(\n",
    "#     datasets.MNIST('data', train=False, transform=transforms.ToTensor()),\n",
    "#     batch_size=64, shuffle=True)\n"
   ]
  },
  {
   "cell_type": "code",
   "execution_count": 25,
   "outputs": [],
   "source": [
    "# dimensions of latent space\n",
    "zdim = 25\n",
    "\n",
    "\n",
    "# Variational Autoencoder\n",
    "class Autoencoder(nn.Module):\n",
    "    def __init__(self):\n",
    "        super(Autoencoder, self).__init__()\n",
    "\n",
    "        # encoder\n",
    "        self.fc1 = nn.Linear(128 * 128, 350)\n",
    "        self.relu = nn.ReLU()\n",
    "        self.fc2m = nn.Linear(350, zdim)  # mu layer\n",
    "        self.fc2s = nn.Linear(350, zdim)  # sd layer\n",
    "\n",
    "        # decoder\n",
    "        self.fc3 = nn.Linear(zdim, 350)\n",
    "        self.fc4 = nn.Linear(350, 128 * 128)\n",
    "        self.sigmoid = nn.Sigmoid()\n",
    "\n",
    "    def encode(self, x):\n",
    "        h1 = self.relu(self.fc1(x))\n",
    "        return self.fc2m(h1), self.fc2s(h1)\n",
    "\n",
    "    # reparameterize\n",
    "    def reparameterize(self, mu, logvar):\n",
    "        if self.training:\n",
    "            std = logvar.mul(0.5).exp_()\n",
    "            eps = std.data.new(std.size()).normal_()\n",
    "            return eps.mul(std).add_(mu)\n",
    "        else:\n",
    "            return mu\n",
    "\n",
    "    def decode(self, z):\n",
    "        h3 = self.relu(self.fc3(z))\n",
    "        return self.sigmoid(self.fc4(h3))\n",
    "\n",
    "    def forward(self, x):\n",
    "        mu, logvar = self.encode(x.view(-1, 128 * 128))\n",
    "        z = self.reparameterize(mu, logvar)\n",
    "        return self.decode(z), mu, logvar\n"
   ],
   "metadata": {
    "collapsed": false
   }
  },
  {
   "cell_type": "code",
   "execution_count": 28,
   "outputs": [],
   "source": [
    "\n",
    "# loss function for VAE are unique and use Kullback-Leibler\n",
    "# divergence measure to force distribution to match unit Gaussian\n",
    "def loss_function(recon_x, x, mu, logvar):\n",
    "    #     print(x.view(-1, 28 * 28))\n",
    "    bce = F.binary_cross_entropy(recon_x, x.view(-1, 128 * 128))\n",
    "    kld = -0.5 * torch.sum(1 + logvar - mu.pow(2) - logvar.exp())\n",
    "    kld /= batch_size * 128 * 128\n",
    "    return bce + kld\n",
    "\n",
    "\n",
    "def train(model, num_epochs=1, batch_size=64, learning_rate=1e-3):\n",
    "    model.train()  #train mode\n",
    "    torch.manual_seed(42)\n",
    "\n",
    "    # train_loader = torch.utils.data.DataLoader(\n",
    "    #     train_data,\n",
    "    #     batch_size=batch_size, shuffle=True)\n",
    "\n",
    "    optimizer = optim.Adam(model.parameters(), learning_rate)\n",
    "\n",
    "    for epoch in range(num_epochs):\n",
    "        for data in train_loader:  # load batch\n",
    "            img, _ = data\n",
    "\n",
    "            recon, mu, logvar = model(img)\n",
    "            loss = loss_function(recon, img, mu, logvar)  # calculate loss\n",
    "            loss.backward()\n",
    "            optimizer.step()\n",
    "            optimizer.zero_grad()\n",
    "\n",
    "        print('Epoch:{}, Loss:{:.4f}'.format(epoch + 1, float(loss)))"
   ],
   "metadata": {
    "collapsed": false
   }
  },
  {
   "cell_type": "code",
   "execution_count": null,
   "outputs": [],
   "source": [],
   "metadata": {
    "collapsed": false
   }
  }
 ],
 "metadata": {
  "kernelspec": {
   "display_name": "Python 3",
   "language": "python",
   "name": "python3"
  },
  "language_info": {
   "codemirror_mode": {
    "name": "ipython",
    "version": 2
   },
   "file_extension": ".py",
   "mimetype": "text/x-python",
   "name": "python",
   "nbconvert_exporter": "python",
   "pygments_lexer": "ipython2",
   "version": "2.7.6"
  }
 },
 "nbformat": 4,
 "nbformat_minor": 0
}
